{
 "cells": [
  {
   "cell_type": "code",
   "execution_count": null,
   "id": "3f8bde96-c697-47a0-bc12-11118ff08185",
   "metadata": {},
   "outputs": [],
   "source": [
    "import os.path\n",
    "import pandas as pd\n",
    "import numpy as np\n",
    "from matplotlib import pyplot\n",
    "\n",
    "from settings.settings import HISTORIC_DATA_FOLDER, ELECTRICITY_PER_QUARTER_FILE, GAS_PER_DAY_FILE\n",
    "\n",
    "%config IPCompleter.greedy=True\n",
    "# %matplotlib widget\n",
    "# pd.set_option('display.max_rows', None) # show all rows in dataframe"
   ]
  },
  {
   "cell_type": "code",
   "execution_count": null,
   "id": "5b8de69d-a580-471d-af1a-f0d4c0dca589",
   "metadata": {
    "tags": []
   },
   "outputs": [],
   "source": [
    "def get_data_as_df(csv_file_name):\n",
    "    dt_concat_format = '%d-%m-%Y %H:%M:%S'\n",
    "    util_df = pd.read_csv(csv_file_name, sep=';', decimal=',')\n",
    "    util_df['End Time'] = util_df['Tot Datum'] + \" \" + util_df['Tot Tijdstip']\n",
    "    util_df['End Time'] = pd.to_datetime(util_df['End Time'], format=dt_concat_format)\n",
    "    util_df['Start Time'] = util_df['Van Datum'] + \" \" + util_df['Van Tijdstip']\n",
    "    util_df['Start Time'] = pd.to_datetime(util_df['Start Time'], format=dt_concat_format)\n",
    "    util_df['DT delta'] = util_df['End Time'] - util_df['Start Time']\n",
    "    util_df.drop(columns=['EAN', 'Meter', 'Metertype', 'Validatiestatus', 'Tot Datum', 'Tot Tijdstip', 'Van Datum', 'Van Tijdstip'], inplace=True)\n",
    "    util_df.set_index('End Time', inplace=True)\n",
    "\n",
    "    return util_df"
   ]
  },
  {
   "cell_type": "code",
   "execution_count": null,
   "id": "aa55d07e-9717-4d55-8457-baedde03fd17",
   "metadata": {},
   "outputs": [],
   "source": [
    "def add_week_number_column(df_in, year):\n",
    "    df_in = df_in.loc[year]\n",
    "    df_in['Week Number'] = df_in.index.isocalendar().week\n",
    "    df_in.set_index('Week Number', inplace=True)\n",
    "    \n",
    "    return df_in"
   ]
  },
  {
   "cell_type": "code",
   "execution_count": null,
   "id": "189be726-7547-45c7-92ea-ba926554a44d",
   "metadata": {},
   "outputs": [],
   "source": [
    "def add_doy_column(df_in, year):\n",
    "    df_in = df_in.loc[year]\n",
    "    df_in['DOY'] = df_in.index.dayofyear\n",
    "    df_in.set_index('DOY', inplace=True)\n",
    "    \n",
    "    return df_in"
   ]
  },
  {
   "cell_type": "code",
   "execution_count": null,
   "id": "e4ebf9a3-adbc-46a6-a96f-3a1e8506defa",
   "metadata": {},
   "outputs": [],
   "source": [
    "df_gas = get_data_as_df(os.path.join(HISTORIC_DATA_FOLDER, GAS_PER_DAY_FILE))\n",
    "m3_filter = df_gas['Eenheid'].isin(['m³'])\n",
    "df_gas = df_gas[m3_filter]"
   ]
  },
  {
   "cell_type": "code",
   "execution_count": null,
   "id": "e33a84b2-65a9-4ab6-b695-3221e1122fc7",
   "metadata": {},
   "outputs": [],
   "source": [
    "expected_gas_interval = np.timedelta64(1, 'D')\n",
    "unexpected_interval = df_gas.loc[df_gas['DT delta'] != expected_gas_interval]\n",
    "print('!! be aware !!')\n",
    "print('unexpected interval, possibly caused by summer/winter time')\n",
    "unexpected_interval"
   ]
  },
  {
   "cell_type": "code",
   "execution_count": null,
   "id": "f7f74a32-71ed-45b7-9b3a-872d3b453f81",
   "metadata": {},
   "outputs": [],
   "source": [
    "gpd = df_gas.resample('d').sum(numeric_only=True)\n",
    "gpw = df_gas.resample('w').sum(numeric_only=True)"
   ]
  },
  {
   "cell_type": "code",
   "execution_count": null,
   "id": "ac5da64a-0d14-47dd-a482-82275323e3d7",
   "metadata": {},
   "outputs": [],
   "source": [
    "fig, axes = pyplot.subplots(figsize=(40, 8))\n",
    "ax = df_gas['Volume'].plot(label='per day', grid=True)\n",
    "bx = gpw['Volume'].plot(label='per week', grid=True, style='o-')\n",
    "bx.set_ylabel('gas volume (m³)')\n",
    "axes.legend()\n",
    "pyplot.show()"
   ]
  },
  {
   "cell_type": "code",
   "execution_count": null,
   "id": "c1abf099-8932-4229-a3d0-f31dc9e3b7cd",
   "metadata": {},
   "outputs": [],
   "source": [
    "gpw_2023 = add_week_number_column(gpw, '2023')\n",
    "gpw_2022 = add_week_number_column(gpw, '2022')\n",
    "gpw_2021 = add_week_number_column(gpw, '2021')\n",
    "\n",
    "# last week of 2021 is according to pandas in the year 2022. Move it to 2021, to prevent weird plotting.\n",
    "gpw_2021.loc[52] = gpw_2022.loc[52]\n",
    "gpw_2022.drop(52, inplace=True)\n",
    "\n",
    "# first week of 2023 is according to pandas in the year 2022. Move it back, to prevent weird plotting.\n",
    "gpw_2022.loc[52] = gpw_2023.loc[52]\n",
    "gpw_2023.drop(52, inplace=True)"
   ]
  },
  {
   "cell_type": "code",
   "execution_count": null,
   "id": "755d354b-3a6e-4ea5-99ea-2384fbf7446d",
   "metadata": {},
   "outputs": [],
   "source": [
    "fig, axes = pyplot.subplots(sharex=True, figsize=(40, 8))\n",
    "ax = gpw_2021['Volume'].plot(label='2021', grid=True, style='d--')\n",
    "bx = gpw_2022['Volume'].plot(label='2022', grid=True, style='o-')\n",
    "cx = gpw_2023['Volume'].plot(label='2023', grid=True, style='cx-')\n",
    "cx.set_ylabel('gas volume (m³)')\n",
    "\n",
    "axes.set_title('Gas volume per week - year by year comparison')\n",
    "axes.legend()\n",
    "pyplot.show()"
   ]
  },
  {
   "cell_type": "code",
   "execution_count": null,
   "id": "247fb3bb-7e76-4292-8a86-4e96d6254ede",
   "metadata": {},
   "outputs": [],
   "source": [
    "gpd_2021 = add_doy_column(gpd, '2021')\n",
    "gpd_2022 = add_doy_column(gpd, '2022')\n",
    "gpd_2023 = add_doy_column(gpd, '2023')"
   ]
  },
  {
   "cell_type": "code",
   "execution_count": null,
   "id": "5fc31075-9c7f-490f-925e-6431ff8b58e7",
   "metadata": {},
   "outputs": [],
   "source": [
    "# fig, axes = pyplot.subplots(sharex=True, figsize=(40, 8))\n",
    "# ax = gpd_2021['Volume'].plot(label='2021', grid=True, style='d--')\n",
    "# bx = gpd_2022['Volume'].plot(label='2022', grid=True, style='o-')\n",
    "# cx = gpd_2023['Volume'].plot(label='2023', grid=True, style='cx-')\n",
    "# cx.set_ylabel('gas volume (m³)')\n",
    "\n",
    "# # mark September 1st\n",
    "# bx.annotate(\"\", xy=(243, 2), xytext=(243, 0), arrowprops=dict(arrowstyle=\"-\"))\n",
    "\n",
    "# axes.set_title('Gas per day - DOY comparison')\n",
    "# axes.legend()\n",
    "# pyplot.show()"
   ]
  },
  {
   "cell_type": "code",
   "execution_count": null,
   "id": "fbf8c4bd-eae3-4e38-a495-d49ab769269a",
   "metadata": {},
   "outputs": [],
   "source": [
    "# day 90 = April 1; day 242 = September 1.\n",
    "cut_off_day = 242\n",
    "gpd_2021_last_months = gpd_2021.loc[gpd_2021.index > cut_off_day]\n",
    "gpd_2022_last_months = gpd_2022.loc[gpd_2022.index > cut_off_day]\n",
    "gpd_2023_last_months = gpd_2023.loc[gpd_2023.index > cut_off_day]\n",
    "cumulative_2021 = gpd_2021_last_months['Volume'].cumsum()\n",
    "cumulative_2022 = gpd_2022_last_months['Volume'].cumsum()\n",
    "cumulative_2023 = gpd_2023_last_months['Volume'].cumsum()"
   ]
  },
  {
   "cell_type": "code",
   "execution_count": null,
   "id": "95507c11-64f4-420f-80b9-71db7e35ae5d",
   "metadata": {},
   "outputs": [],
   "source": [
    "last_day = 34#cumulative_2022.size - 1 \n",
    "print(f'day:\\t{last_day}')\n",
    "print(f'2021:\\t{cumulative_2021.iloc[last_day]:.1f} m³')\n",
    "print(f'2022:\\t{cumulative_2022.iloc[last_day]:.1f} m³')\n",
    "print(f'2023:\\t{cumulative_2023.iloc[last_day]:.1f} m³')"
   ]
  },
  {
   "cell_type": "code",
   "execution_count": null,
   "id": "e3e44c7e-f66d-495c-b107-03a4b2ea9a47",
   "metadata": {},
   "outputs": [],
   "source": [
    "# fig, axes = pyplot.subplots(sharex=True, figsize=(40, 8))\n",
    "# ax = gpd_2021_last_months['Volume'].plot(label='2021', grid=True, style='d--')\n",
    "# bx = gpd_2022_last_months['Volume'].plot(label='2022', grid=True, style='o-')\n",
    "\n",
    "# bx.set_ylabel('gas volume (m³)')\n",
    "# axes.set_title('Last X months - gas per day')\n",
    "# axes.legend()\n",
    "# pyplot.show()"
   ]
  },
  {
   "cell_type": "code",
   "execution_count": null,
   "id": "bb5d13e8-0033-4ff4-983d-6b93ac77a45a",
   "metadata": {},
   "outputs": [],
   "source": [
    "fig, axes = pyplot.subplots(sharex=True, figsize=(40, 8))\n",
    "ax = cumulative_2021.plot(label='2021', grid=True, style='d--')\n",
    "bx = cumulative_2022.plot(label='2022', grid=True, style='o-')\n",
    "cx = cumulative_2023.plot(label='2023', grid=True, style='+-')\n",
    "\n",
    "cx.set_ylabel('gas volume (m³)')\n",
    "axes.set_title('Last X months - gas cumulative by day')\n",
    "axes.legend()\n",
    "pyplot.show()"
   ]
  },
  {
   "cell_type": "code",
   "execution_count": null,
   "id": "1fde0ba3-0444-4cc1-8761-463fb930b6b3",
   "metadata": {
    "tags": []
   },
   "outputs": [],
   "source": [
    "df_elec = get_data_as_df(os.path.join(HISTORIC_DATA_FOLDER, ELECTRICITY_PER_QUARTER_FILE))\n",
    "\n",
    "afname_filter = df_elec['Register'].isin(['Afname Dag', 'Afname Nacht'])\n",
    "elec_afname = df_elec.loc[afname_filter]\n",
    "\n",
    "injectie_filter = df_elec['Register'].isin(['Injectie Dag', 'Injectie Nacht'])\n",
    "elec_injectie = df_elec.loc[injectie_filter]\n",
    "\n",
    "expected_elec_interval = np.timedelta64(15, 'm')\n",
    "unexpected_electr_interval = df_elec.loc[df_elec['DT delta'] != expected_elec_interval]\n",
    "print('!! be aware !!')\n",
    "print('unexpected interval, possibly caused by summer/winter time')\n",
    "unexpected_electr_interval"
   ]
  },
  {
   "cell_type": "code",
   "execution_count": null,
   "id": "bcf6a518-ba48-4860-bd2d-339e86e65d58",
   "metadata": {},
   "outputs": [],
   "source": [
    "# fig, axes = pyplot.subplots(figsize=(40, 8))\n",
    "# ax = elec_injectie['Volume'].plot(grid=True, label='injectie')\n",
    "# bx = elec_afname['Volume'].plot(grid=True, label='afname')\n",
    "# axes.legend()\n",
    "# pyplot.show()"
   ]
  },
  {
   "cell_type": "code",
   "execution_count": null,
   "id": "76e12737-626b-4955-bc82-d1da5f1f170e",
   "metadata": {},
   "outputs": [],
   "source": [
    "eapd = elec_afname.resample('d').sum(numeric_only=True)\n",
    "eapw = elec_afname.resample('w').sum(numeric_only=True)"
   ]
  },
  {
   "cell_type": "code",
   "execution_count": null,
   "id": "01b5e4ad-216e-4563-996e-be4a3ff91286",
   "metadata": {
    "tags": []
   },
   "outputs": [],
   "source": [
    "fig, axes = pyplot.subplots(figsize=(40, 8))\n",
    "ax = eapd['Volume'].plot(label='elec per day', grid=True)\n",
    "ax.set_ylabel('elec afname kWh')\n",
    "bx = eapw['Volume'].plot(label='per week', grid=True, style='o-')\n",
    "axes.set_title('Electriciteit afname (per dag en per week)')\n",
    "axes.legend()\n",
    "pyplot.show()"
   ]
  }
 ],
 "metadata": {
  "kernelspec": {
   "display_name": "Python 3 (ipykernel)",
   "language": "python",
   "name": "python3"
  },
  "language_info": {
   "codemirror_mode": {
    "name": "ipython",
    "version": 3
   },
   "file_extension": ".py",
   "mimetype": "text/x-python",
   "name": "python",
   "nbconvert_exporter": "python",
   "pygments_lexer": "ipython3",
   "version": "3.11.4"
  }
 },
 "nbformat": 4,
 "nbformat_minor": 5
}
