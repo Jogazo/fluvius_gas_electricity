{
 "cells": [
  {
   "cell_type": "code",
   "execution_count": null,
   "id": "3f8bde96-c697-47a0-bc12-11118ff08185",
   "metadata": {},
   "outputs": [],
   "source": [
    "import os.path\n",
    "import pandas as pd\n",
    "import numpy as np\n",
    "from matplotlib import pyplot\n",
    "\n",
    "from settings.settings import HISTORIC_DATA_FOLDER, GAS_PER_HOUR_FILE\n",
    "\n",
    "%config IPCompleter.greedy=True\n",
    "%matplotlib inline"
   ]
  },
  {
   "cell_type": "code",
   "execution_count": null,
   "id": "5b8de69d-a580-471d-af1a-f0d4c0dca589",
   "metadata": {
    "tags": []
   },
   "outputs": [],
   "source": [
    "def get_data_as_df(csv_file_name):\n",
    "    dt_concat_format = '%d-%m-%Y %H:%M:%S'\n",
    "    util_df = pd.read_csv(csv_file_name, sep=';', decimal=',')\n",
    "    util_df['End Time'] = util_df['Tot Datum'] + \" \" + util_df['Tot Tijdstip']\n",
    "    util_df['End Time'] = pd.to_datetime(util_df['End Time'], format=dt_concat_format)\n",
    "    util_df['Start Time'] = util_df['Van Datum'] + \" \" + util_df['Van Tijdstip']\n",
    "    util_df['Start Time'] = pd.to_datetime(util_df['Start Time'], format=dt_concat_format)\n",
    "    util_df['DT delta'] = util_df['End Time'] - util_df['Start Time']\n",
    "    util_df.drop(columns=['EAN', 'Meter', 'Metertype', 'Validatiestatus', 'Tot Datum', 'Tot Tijdstip', 'Van Datum', 'Van Tijdstip'], inplace=True)\n",
    "    util_df.set_index('End Time', inplace=True)\n",
    "\n",
    "    return util_df"
   ]
  },
  {
   "cell_type": "code",
   "execution_count": null,
   "id": "499b1072-2fd9-41c1-8d44-6841b2c44d3b",
   "metadata": {},
   "outputs": [],
   "source": [
    "df_gas = get_data_as_df(os.path.join(HISTORIC_DATA_FOLDER, GAS_PER_HOUR_FILE))\n",
    "m3_filter = df_gas['Eenheid'].isin(['m³'])\n",
    "df_gas = df_gas[m3_filter]"
   ]
  },
  {
   "cell_type": "code",
   "execution_count": null,
   "id": "3bdf7edc-d634-4619-8b83-495654a6861c",
   "metadata": {},
   "outputs": [],
   "source": [
    "expected_gas_interval = np.timedelta64(1, 'h')\n",
    "unexpected_interval = df_gas.loc[df_gas['DT delta'] != expected_gas_interval]\n",
    "print('!! be aware !!')\n",
    "print('unexpected interval, possibly caused by summer/winter time')\n",
    "unexpected_interval"
   ]
  },
  {
   "cell_type": "code",
   "execution_count": null,
   "id": "1b995c32-9360-4691-aacb-38cfd9ff6a6f",
   "metadata": {},
   "outputs": [],
   "source": [
    "def add_week_number_column(df_in, year):\n",
    "    df_in = df_in.loc[year]\n",
    "    df_in['Week Number'] = df_in.index.isocalendar().week\n",
    "    return df_in\n",
    "\n",
    "df_gas = add_week_number_column(df_gas, '2022')"
   ]
  },
  {
   "cell_type": "code",
   "execution_count": null,
   "id": "2035859b-193f-4cdc-98b4-60453b11e309",
   "metadata": {},
   "outputs": [],
   "source": [
    "def add_how_column(df_in):\n",
    "    df_temp = df_in.copy()\n",
    "    df_temp['HOW'] = df_temp.index.dayofweek*24 + df_temp.index.hour\n",
    "    df_temp.set_index('HOW', inplace=True)\n",
    "    df_temp.drop(columns=['Register', 'Calorische Bovenwaarde', 'DT delta'], inplace=True)\n",
    "    return df_temp"
   ]
  },
  {
   "cell_type": "code",
   "execution_count": null,
   "id": "01b77f65-34b5-420d-a1ca-9ae2c302958d",
   "metadata": {},
   "outputs": [],
   "source": [
    "gas_hours_per_day = dict()\n",
    "\n",
    "for g in df_gas.groupby('Week Number'):\n",
    "    gas_hours_per_day[g[0]] = add_how_column(g[1])\n"
   ]
  },
  {
   "cell_type": "code",
   "execution_count": null,
   "id": "dc6a72f7-1031-4116-8b27-ebc02a9937d8",
   "metadata": {},
   "outputs": [],
   "source": [
    "fig, axes = pyplot.subplots(sharex=True, figsize=(40, 8))\n",
    "for week_number, how_df in gas_hours_per_day.items():\n",
    "    if week_number > 44:\n",
    "        how_df['Volume'].plot(grid=True, label=week_number)\n",
    "\n",
    "axes.set_title('Gas volume per hour of week - week by week overlay')\n",
    "axes.legend()\n",
    "pyplot.show()"
   ]
  },
  {
   "cell_type": "code",
   "execution_count": null,
   "id": "63f5d64e-dc64-4a44-95c8-6083277cf773",
   "metadata": {},
   "outputs": [],
   "source": [
    "how_concat = pd.concat(gas_hours_per_day.values())\n",
    "sum_how = how_concat.groupby('HOW')['Volume'].sum()"
   ]
  },
  {
   "cell_type": "code",
   "execution_count": null,
   "id": "53cd5a7d-54af-4edb-8e53-052c69d67250",
   "metadata": {},
   "outputs": [],
   "source": [
    "fig, axes = pyplot.subplots(sharex=True, figsize=(40, 8))\n",
    "sum_how.plot.bar()\n",
    "\n",
    "axes.set_title('Sum gas volume per hour of week')\n",
    "axes.legend()\n",
    "pyplot.show()"
   ]
  }
 ],
 "metadata": {
  "kernelspec": {
   "display_name": "Python 3 (ipykernel)",
   "language": "python",
   "name": "python3"
  },
  "language_info": {
   "codemirror_mode": {
    "name": "ipython",
    "version": 3
   },
   "file_extension": ".py",
   "mimetype": "text/x-python",
   "name": "python",
   "nbconvert_exporter": "python",
   "pygments_lexer": "ipython3",
   "version": "3.10.6"
  }
 },
 "nbformat": 4,
 "nbformat_minor": 5
}
