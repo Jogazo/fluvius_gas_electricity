{
 "cells": [
  {
   "cell_type": "code",
   "execution_count": null,
   "id": "3f8bde96-c697-47a0-bc12-11118ff08185",
   "metadata": {},
   "outputs": [],
   "source": [
    "import os\n",
    "from glob import glob\n",
    "import re\n",
    "from pickle import load\n",
    "\n",
    "import pandas as pd\n",
    "import numpy as np\n",
    "from matplotlib import pyplot\n",
    "\n",
    "from settings.settings import HISTORIC_DATA_FOLDER\n",
    "\n",
    "%config IPCompleter.greedy=True\n",
    "%matplotlib inline\n",
    "\n",
    "file_list = glob('climate_month_*.pickle', root_dir=HISTORIC_DATA_FOLDER)\n",
    "day_list = glob('climate_20*-*-*.pickle', root_dir=HISTORIC_DATA_FOLDER)"
   ]
  },
  {
   "cell_type": "code",
   "execution_count": null,
   "id": "2db6c9b2-179e-4c72-8e29-eb0ef7c456ea",
   "metadata": {},
   "outputs": [],
   "source": [
    "def get_year_and_month_from_file_name(file_name):\n",
    "    month = re.search('202\\d-\\d\\d', file_name).group()\n",
    "    return month"
   ]
  },
  {
   "cell_type": "code",
   "execution_count": null,
   "id": "f942eb2d-737c-4d47-b0d8-09896cb8cdaa",
   "metadata": {},
   "outputs": [],
   "source": [
    "def get_daily_average_temperature(df_day):\n",
    "    try:\n",
    "        return df_day['Temp'].mean()\n",
    "    except TypeError:\n",
    "        assert df_day is None\n",
    "        return None"
   ]
  },
  {
   "cell_type": "code",
   "execution_count": null,
   "id": "83426f03-1130-4752-abab-32bba5093d7a",
   "metadata": {},
   "outputs": [],
   "source": [
    "def add_week_number_column(df_in, year):\n",
    "    df_in = df_in.loc[year]\n",
    "    df_in['Week Number'] = df_in.index.isocalendar().week\n",
    "    df_in.set_index('Week Number', inplace=True)\n",
    "    \n",
    "    return df_in"
   ]
  },
  {
   "cell_type": "code",
   "execution_count": null,
   "id": "a5a1071f-e871-42ae-be09-e132b61e84e7",
   "metadata": {},
   "outputs": [],
   "source": [
    "all_weather = {\n",
    "    'date': [],\n",
    "    'av_temp': []\n",
    "}\n",
    "\n",
    "for name in sorted(file_list):\n",
    "    yr_month = get_year_and_month_from_file_name(name)\n",
    "    with open(os.path.join(HISTORIC_DATA_FOLDER, name), 'rb') as fh:\n",
    "        month_dict = load(fh)\n",
    "    for key in month_dict.keys():\n",
    "        date_as_string = f'{yr_month}-{key:02}'\n",
    "        all_weather['date'].append(date_as_string)\n",
    "        all_weather['av_temp'].append(get_daily_average_temperature(month_dict[key]))\n",
    "\n",
    "df_temp = pd.DataFrame.from_dict(all_weather)\n",
    "\n",
    "dt_concat_format = '%d-%m-%Y %H:%M:%S'\n",
    "df_temp['date'] = pd.to_datetime(df_temp['date'], format='%Y-%m-%d')\n",
    "df_temp.set_index('date', inplace=True)\n",
    "print(df_temp.shape)\n",
    "df_temp"
   ]
  },
  {
   "cell_type": "code",
   "execution_count": null,
   "id": "ac5da64a-0d14-47dd-a482-82275323e3d7",
   "metadata": {},
   "outputs": [],
   "source": [
    "ax = df_temp.plot(grid=True, title='Daily average temperature.')\n",
    "ax.set_ylabel('Temperature (°C)')"
   ]
  },
  {
   "cell_type": "code",
   "execution_count": null,
   "id": "75466d9b-cb84-43c8-a748-deeb46bbbd10",
   "metadata": {},
   "outputs": [],
   "source": [
    "temp_per_week = df_temp.resample('w').mean(numeric_only=True)\n",
    "av_temp_per_week_2021 = add_week_number_column(temp_per_week, '2021')\n",
    "av_temp_per_week_2022 = add_week_number_column(temp_per_week, '2022')\n",
    "\n",
    "# last week of 2021 is according to pandas in the year 2022. Move it to 2021, to prevent weird plotting.\n",
    "av_temp_per_week_2021.loc[52] = av_temp_per_week_2022.loc[52]\n",
    "av_temp_per_week_2022.drop(52, inplace=True)"
   ]
  },
  {
   "cell_type": "code",
   "execution_count": null,
   "id": "32943d36-475b-4d6c-8a5c-ea7709d64b5a",
   "metadata": {},
   "outputs": [],
   "source": [
    "fig, axes = pyplot.subplots(figsize=(30, 10))\n",
    "ax = av_temp_per_week_2021['av_temp'].plot(label='per week 2021', grid=True)\n",
    "bx = av_temp_per_week_2022['av_temp'].plot(label='per week 2022', grid=True,\n",
    "                                           title='Weekly average temperature.', style='o-')\n",
    "bx.set_ylabel('Temperature (°C)')\n",
    "axes.legend()\n",
    "pyplot.show()"
   ]
  },
  {
   "cell_type": "code",
   "execution_count": null,
   "id": "7a957acd-fec4-4c07-92af-0914b2e65727",
   "metadata": {},
   "outputs": [],
   "source": [
    "per_hour = list()\n",
    "for name in sorted(file_list):\n",
    "    yr_month = get_year_and_month_from_file_name(name)\n",
    "    with open(os.path.join(HISTORIC_DATA_FOLDER, name), 'rb') as fh:\n",
    "        month_dict = load(fh)\n",
    "    for day, value in month_dict.items():\n",
    "        try:\n",
    "            per_hour.append(value)\n",
    "        except AttributeError:\n",
    "            print(f'No dataframe for {yr_month}-{day:02}')\n",
    "\n",
    "##### Append uncompleted pickled months\n",
    "\n",
    "for name in sorted(day_list):\n",
    "    yr_m_d = re.search('202\\d-\\d\\d-\\d\\d', name).group()\n",
    "\n",
    "    with open(os.path.join(HISTORIC_DATA_FOLDER, name), 'rb') as fh:\n",
    "        df_day_hour = load(fh)\n",
    "\n",
    "    try:\n",
    "        per_hour.append(df_day_hour)\n",
    "    except AttributeError:\n",
    "        print(f'No dataframe in file {name}')\n",
    "\n",
    "temperature_per_hour = pd.concat(per_hour)"
   ]
  },
  {
   "cell_type": "code",
   "execution_count": null,
   "id": "d8b9f46f-4abe-4c01-a415-2a323230a3ff",
   "metadata": {},
   "outputs": [],
   "source": [
    "ax = temperature_per_hour['Temp'].plot(title='Hourly temperature')\n",
    "ax.set_ylabel('Temperature (°C)')"
   ]
  },
  {
   "cell_type": "code",
   "execution_count": null,
   "id": "a2bd7c74-6cf3-4595-8e2f-b415ca3b0cb8",
   "metadata": {},
   "outputs": [],
   "source": [
    "last_x_hrs = 120\n",
    "ax = temperature_per_hour[-last_x_hrs:]['Temp'].plot(title=f'Hourly temperature, last {last_x_hrs} hours.')\n",
    "ax.set_ylabel('Temperature (°C)')"
   ]
  }
 ],
 "metadata": {
  "kernelspec": {
   "display_name": "Python 3 (ipykernel)",
   "language": "python",
   "name": "python3"
  },
  "language_info": {
   "codemirror_mode": {
    "name": "ipython",
    "version": 3
   },
   "file_extension": ".py",
   "mimetype": "text/x-python",
   "name": "python",
   "nbconvert_exporter": "python",
   "pygments_lexer": "ipython3",
   "version": "3.10.6"
  }
 },
 "nbformat": 4,
 "nbformat_minor": 5
}
